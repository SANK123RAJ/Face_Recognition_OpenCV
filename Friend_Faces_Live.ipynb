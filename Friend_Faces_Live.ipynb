{
 "cells": [
  {
   "cell_type": "code",
   "execution_count": 1,
   "id": "729e0c8c",
   "metadata": {},
   "outputs": [],
   "source": [
    "import cv2\n",
    "import numpy as np\n",
    "import os"
   ]
  },
  {
   "cell_type": "code",
   "execution_count": 2,
   "id": "8926dbbb",
   "metadata": {},
   "outputs": [],
   "source": [
    "face_cascade =cv2.CascadeClassifier(cv2.data.haarcascades+\"haarcascade_frontalface_default.xml\")\n",
    "\n",
    "People = [\"Suprabho\",\"Sankalp\",\"Rahul\",\"Gangesh\",\"Chiruaa\"]"
   ]
  },
  {
   "cell_type": "code",
   "execution_count": 6,
   "id": "a5d21523",
   "metadata": {},
   "outputs": [],
   "source": [
    "face_recognizer = cv2.face.LBPHFaceRecognizer_create()\n",
    "face_recognizer.read(\"Real_time_Face_train.yml\")\n",
    "\n",
    "cap = cv2.VideoCapture(0)\n",
    "\n",
    "while True:\n",
    "    ret, frame = cap.read()\n",
    "    frame = cv2.flip(frame, 1)\n",
    "    gray_frame = cv2.cvtColor(frame, cv2.COLOR_BGR2GRAY)\n",
    "    faces = face_cascade.detectMultiScale(gray_frame, scaleFactor=1.1, minNeighbors=4)\n",
    "\n",
    "    for (x, y, w, h) in faces:\n",
    "        face_roi = gray_frame[y:y + h, x:x + w]  # Corrected the order of indexing\n",
    "        label, confidence = face_recognizer.predict(face_roi)\n",
    "        \n",
    "        frame = cv2.rectangle(frame, (x, y), (x + w, y + h), (0, 255, 0), 2)\n",
    "        font = cv2.FONT_HERSHEY_SIMPLEX\n",
    "        cv2.putText(frame, People[label], (x, y - 5), font, 0.7, (255, 0, 0), 2, cv2.LINE_AA)\n",
    "        cv2.putText(frame, \"Confidence: {:.2f}\".format(confidence), (x, y + h + 10), font, 0.3, (0, 0, 255), 1, cv2.LINE_AA)\n",
    "        \n",
    "    cv2.imshow(\"Image\", frame)\n",
    "\n",
    "    if cv2.waitKey(1) == ord(\"q\"):\n",
    "        break\n",
    "cap.release()\n",
    "cv2.destroyAllWindows()\n"
   ]
  },
  {
   "cell_type": "code",
   "execution_count": 4,
   "id": "86ef12e8",
   "metadata": {},
   "outputs": [],
   "source": [
    "cap.release()        \n",
    "cv2.destroyAllWindows()\n",
    "        "
   ]
  },
  {
   "cell_type": "code",
   "execution_count": null,
   "id": "8e04c993",
   "metadata": {},
   "outputs": [],
   "source": []
  }
 ],
 "metadata": {
  "kernelspec": {
   "display_name": "Python 3 (ipykernel)",
   "language": "python",
   "name": "python3"
  },
  "language_info": {
   "codemirror_mode": {
    "name": "ipython",
    "version": 3
   },
   "file_extension": ".py",
   "mimetype": "text/x-python",
   "name": "python",
   "nbconvert_exporter": "python",
   "pygments_lexer": "ipython3",
   "version": "3.11.5"
  }
 },
 "nbformat": 4,
 "nbformat_minor": 5
}
