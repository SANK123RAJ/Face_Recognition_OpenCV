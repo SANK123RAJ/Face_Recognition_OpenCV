{
 "cells": [
  {
   "cell_type": "code",
   "execution_count": 33,
   "id": "73adb4a0",
   "metadata": {},
   "outputs": [],
   "source": [
    "import cv2\n",
    "import numpy as np\n",
    "import os"
   ]
  },
  {
   "cell_type": "code",
   "execution_count": 34,
   "id": "18cc62ac",
   "metadata": {},
   "outputs": [],
   "source": [
    "face_cascade =cv2.CascadeClassifier(cv2.data.haarcascades+\"haarcascade_frontalface_default.xml\")\n",
    "\n",
    "People = [\"Suprabho\",\"Sankalp\",\"Rahul\",\"Gangesh\",\"Chiruaa\"]\n",
    "\n",
    "features = []\n",
    "labels = []\n",
    "\n",
    "Root_dir = \"Downloads/Face_ML_Train_Data-20240112T055223Z-001/Face_ML_Train_Data\"\n",
    "\n",
    "for person in People:\n",
    "    Person_dir = os.path.join(Root_dir,person)\n",
    "    label = People.index(person)\n",
    "    for images in os.listdir(Person_dir):\n",
    "        images_dir  = os.path.join(Person_dir,images)\n",
    "        img = cv2.imread(images_dir,0)\n",
    "        face = face_cascade.detectMultiScale(img,1.1,4)\n",
    "        for (x,y,w,h) in face:\n",
    "            face_roi = img[y:y+h,x:x+w]\n",
    "            features.append(face_roi)\n",
    "            labels.append(label)\n",
    "          \n",
    "features = numpy.array(features,dtype = object) \n",
    "labels = numpy.array(labels) \n",
    "face_recognizer = cv2.face.LBPHFaceRecognizer_create()\n",
    "face_recognizer.train(features,labels)\n",
    "face_recognizer.save(\"Real_time_Face_train.yml\")\n",
    "    "
   ]
  },
  {
   "cell_type": "code",
   "execution_count": null,
   "id": "70a3dfbb",
   "metadata": {},
   "outputs": [],
   "source": []
  }
 ],
 "metadata": {
  "kernelspec": {
   "display_name": "Python 3 (ipykernel)",
   "language": "python",
   "name": "python3"
  },
  "language_info": {
   "codemirror_mode": {
    "name": "ipython",
    "version": 3
   },
   "file_extension": ".py",
   "mimetype": "text/x-python",
   "name": "python",
   "nbconvert_exporter": "python",
   "pygments_lexer": "ipython3",
   "version": "3.11.5"
  }
 },
 "nbformat": 4,
 "nbformat_minor": 5
}
